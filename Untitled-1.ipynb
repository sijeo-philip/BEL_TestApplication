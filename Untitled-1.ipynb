{
 "cells": [
  {
   "cell_type": "code",
   "execution_count": 44,
   "metadata": {},
   "outputs": [
    {
     "name": "stdout",
     "output_type": "stream",
     "text": [
      "0b0\n",
      "0b1\n",
      "0b110\n"
     ]
    }
   ],
   "source": [
    "a = 0\n",
    "print(bin(a))\n",
    "a = a<<1|1\n",
    "print(bin(a))\n",
    "a = a<<2|2\n",
    "print(bin(a))"
   ]
  },
  {
   "cell_type": "code",
   "execution_count": 46,
   "metadata": {},
   "outputs": [
    {
     "name": "stdout",
     "output_type": "stream",
     "text": [
      "4028629856\n",
      "0b11110000001000000000001101100000\n"
     ]
    }
   ],
   "source": [
    "tempByte = 0\n",
    "a1 = 1\n",
    "a2 = 3\n",
    "a3 = 1\n",
    "a4 = 32\n",
    "a5 = 54\n",
    "a6 = 0\n",
    "tempByte = tempByte<<1|a1\n",
    "tempByte = tempByte<<2|a2\n",
    "tempByte = tempByte<<1|a3\n",
    "tempByte = tempByte<<12|a4\n",
    "tempByte = tempByte<<12|a5\n",
    "tempByte = tempByte<<4|a6\n",
    "print(tempByte)\n",
    "print(bin(tempByte))"
   ]
  }
 ],
 "metadata": {
  "kernelspec": {
   "display_name": "Python 3.10.2 64-bit",
   "language": "python",
   "name": "python3"
  },
  "language_info": {
   "name": "python",
   "version": "3.10.2"
  },
  "orig_nbformat": 4,
  "vscode": {
   "interpreter": {
    "hash": "fb4569285eef3a3450cb62085a5b1e0da4bce0af555edc33dcf29baf3acc1368"
   }
  }
 },
 "nbformat": 4,
 "nbformat_minor": 2
}
